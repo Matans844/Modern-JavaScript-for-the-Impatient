{
 "cells": [
  {
   "cell_type": "markdown",
   "source": [
    "# Lesson 04: Objects and Classes"
   ],
   "metadata": {
    "collapsed": false
   }
  },
  {
   "cell_type": "markdown",
   "source": [
    "## video 02: Constructors and Classes"
   ],
   "metadata": {
    "collapsed": false
   }
  },
  {
   "cell_type": "code",
   "execution_count": 1,
   "outputs": [],
   "source": [
    "class Employee{\n",
    "    constructor(name,salary){\n",
    "        this.name = name\n",
    "        this.salary = salary\n",
    "    }\n",
    "    raiseSalary(percent){\n",
    "        this.salary *= 1 + percent/100\n",
    "    }\n",
    "}"
   ],
   "metadata": {
    "collapsed": false,
    "ExecuteTime": {
     "start_time": "2023-04-11T23:01:25.381098Z",
     "end_time": "2023-04-11T23:01:25.381098Z"
    }
   }
  },
  {
   "cell_type": "markdown",
   "source": [
    "#### Notice\n",
    "1. In the video, `Employee` returned `[Function: Employee]`. Here it returns `[class Employee]`.\n",
    "2. The rest is the same.\n",
    "\n",
    "I wonder what happened. Probably there were some changes to JavaScript classes since the year this course was made, 2020."
   ],
   "metadata": {
    "collapsed": false
   }
  },
  {
   "cell_type": "code",
   "execution_count": 6,
   "outputs": [
    {
     "data": {
      "text/plain": "[class Employee]"
     },
     "execution_count": 6,
     "metadata": {},
     "output_type": "execute_result"
    }
   ],
   "source": [
    "Employee"
   ],
   "metadata": {
    "collapsed": false,
    "ExecuteTime": {
     "start_time": "2023-04-11T23:01:34.302079Z",
     "end_time": "2023-04-11T23:01:34.311584Z"
    }
   }
  },
  {
   "cell_type": "code",
   "execution_count": 11,
   "outputs": [
    {
     "data": {
      "text/plain": "{}"
     },
     "execution_count": 11,
     "metadata": {},
     "output_type": "execute_result"
    }
   ],
   "source": [
    "Employee.prototype"
   ],
   "metadata": {
    "collapsed": false,
    "ExecuteTime": {
     "start_time": "2023-04-11T23:01:48.849811Z",
     "end_time": "2023-04-11T23:01:48.856351Z"
    }
   }
  },
  {
   "cell_type": "code",
   "execution_count": 16,
   "outputs": [
    {
     "data": {
      "text/plain": "[Function: raiseSalary]"
     },
     "execution_count": 16,
     "metadata": {},
     "output_type": "execute_result"
    }
   ],
   "source": [
    "Employee.prototype.raiseSalary"
   ],
   "metadata": {
    "collapsed": false,
    "ExecuteTime": {
     "start_time": "2023-04-11T23:02:03.329290Z",
     "end_time": "2023-04-11T23:02:03.329290Z"
    }
   }
  },
  {
   "cell_type": "code",
   "execution_count": 21,
   "outputs": [],
   "source": [
    "Employee.raiseSalary"
   ],
   "metadata": {
    "collapsed": false,
    "ExecuteTime": {
     "start_time": "2023-04-11T23:02:14.619531Z",
     "end_time": "2023-04-11T23:02:14.619531Z"
    }
   }
  }
 ],
 "metadata": {
  "kernelspec": {
   "name": "javascript",
   "language": "javascript",
   "display_name": "JavaScript (Node.js)"
  },
  "language_info": {
   "codemirror_mode": {
    "name": "ipython",
    "version": 2
   },
   "file_extension": ".py",
   "mimetype": "text/x-python",
   "name": "python",
   "nbconvert_exporter": "python",
   "pygments_lexer": "ipython2",
   "version": "2.7.6"
  }
 },
 "nbformat": 4,
 "nbformat_minor": 0
}
