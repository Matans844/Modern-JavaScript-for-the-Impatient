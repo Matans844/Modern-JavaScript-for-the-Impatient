{
 "cells": [
  {
   "cell_type": "markdown",
   "source": [
    "# Lesson 06: Strings and Regular  Expressions"
   ],
   "metadata": {
    "collapsed": false
   }
  },
  {
   "cell_type": "markdown",
   "source": [
    "## Video 6.2: Regular Expressions"
   ],
   "metadata": {
    "collapsed": false
   }
  },
  {
   "cell_type": "code",
   "execution_count": 1,
   "outputs": [],
   "source": [
    "const result = /[0-9]+/.exec('agent 007');"
   ],
   "metadata": {
    "collapsed": false,
    "ExecuteTime": {
     "start_time": "2023-04-13T11:35:43.868737Z",
     "end_time": "2023-04-13T11:35:43.868737Z"
    }
   }
  },
  {
   "cell_type": "code",
   "execution_count": 6,
   "outputs": [
    {
     "name": "stdout",
     "output_type": "stream",
     "text": [
      "[ '007', index: 6, input: 'agent 007', groups: undefined ]\n",
      "007\n",
      "007\n",
      "6\n"
     ]
    }
   ],
   "source": [
    "console.log(result)\n",
    "console.log(result[0])\n",
    "console.log(result['0'])\n",
    "console.log(result.index)"
   ],
   "metadata": {
    "collapsed": false,
    "ExecuteTime": {
     "start_time": "2023-04-13T11:35:46.630459Z",
     "end_time": "2023-04-13T11:35:46.644559Z"
    }
   }
  },
  {
   "cell_type": "code",
   "execution_count": null,
   "outputs": [],
   "source": [],
   "metadata": {
    "collapsed": false
   }
  }
 ],
 "metadata": {
  "kernelspec": {
   "name": "javascript",
   "language": "javascript",
   "display_name": "JavaScript (Node.js)"
  },
  "language_info": {
   "codemirror_mode": {
    "name": "ipython",
    "version": 2
   },
   "file_extension": ".py",
   "mimetype": "text/x-python",
   "name": "python",
   "nbconvert_exporter": "python",
   "pygments_lexer": "ipython2",
   "version": "2.7.6"
  }
 },
 "nbformat": 4,
 "nbformat_minor": 0
}
