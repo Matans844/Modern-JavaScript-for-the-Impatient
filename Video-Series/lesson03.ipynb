{
 "cells": [
  {
   "cell_type": "markdown",
   "source": [
    "# Lesson 03: Functions"
   ],
   "metadata": {
    "collapsed": false
   }
  },
  {
   "cell_type": "markdown",
   "source": [
    "## Video 3.1: Named and Anonymous Functions"
   ],
   "metadata": {
    "collapsed": false
   }
  },
  {
   "cell_type": "code",
   "execution_count": 41,
   "outputs": [],
   "source": [
    "const values = [0,1,2,4]"
   ],
   "metadata": {
    "collapsed": false,
    "ExecuteTime": {
     "start_time": "2023-04-11T22:02:11.714391Z",
     "end_time": "2023-04-11T22:02:11.740230Z"
    }
   }
  },
  {
   "cell_type": "markdown",
   "source": [
    "### Examining parsing ambiguity\n",
    "We want an array of objects to be returned:\n",
    "1. The first attempt is ambiguous due to the curly braces being parsed as an anonymous function code block. Since it returns nothing, we get an array of `undefines`.\n",
    "2. The second attempt fixes it because we emphasize returning a single object, rather than opening a code block. Notice that `id` is added as a new property.\n",
    "3. The third adds a `return` statement."
   ],
   "metadata": {
    "collapsed": false
   }
  },
  {
   "cell_type": "code",
   "execution_count": 46,
   "outputs": [
    {
     "name": "stdout",
     "output_type": "stream",
     "text": [
      "[ undefined, undefined, undefined, undefined ]\n"
     ]
    }
   ],
   "source": [
    "console.log(values.map(x => {id: x}))"
   ],
   "metadata": {
    "collapsed": false,
    "ExecuteTime": {
     "start_time": "2023-04-11T22:02:14.978911Z",
     "end_time": "2023-04-11T22:02:14.992605Z"
    }
   }
  },
  {
   "cell_type": "code",
   "execution_count": 51,
   "outputs": [
    {
     "name": "stdout",
     "output_type": "stream",
     "text": [
      "[ { id: 0 }, { id: 1 }, { id: 2 }, { id: 4 } ]\n"
     ]
    }
   ],
   "source": [
    "console.log(values.map(x => ({id: x})))"
   ],
   "metadata": {
    "collapsed": false,
    "ExecuteTime": {
     "start_time": "2023-04-11T22:02:17.863004Z",
     "end_time": "2023-04-11T22:02:17.863004Z"
    }
   }
  },
  {
   "cell_type": "code",
   "execution_count": 56,
   "outputs": [
    {
     "name": "stdout",
     "output_type": "stream",
     "text": [
      "[ { id: 0 }, { id: 1 }, { id: 2 }, { id: 4 } ]\n"
     ]
    }
   ],
   "source": [
    "console.log(values.map(x => {return {id: x}}))\n"
   ],
   "metadata": {
    "collapsed": false,
    "ExecuteTime": {
     "start_time": "2023-04-11T22:02:19.625051Z",
     "end_time": "2023-04-11T22:02:19.631637Z"
    }
   }
  },
  {
   "cell_type": "markdown",
   "source": [
    "##### Remark\n",
    "Hortmann says it is amazing that `id: x` is not considered a syntax error. The reason is that `id:` is considered a label, from the kind used in labeled breaks. The same can be said with `age:` in the following example. A named label should not be confused with a saved language keyword such as `let`.\n",
    "\n",
    "It seems like the language feature for named label breaks makes the language a bit unstable with respect to policing syntax."
   ],
   "metadata": {
    "collapsed": false
   }
  },
  {
   "cell_type": "code",
   "execution_count": 61,
   "outputs": [
    {
     "name": "stdout",
     "output_type": "stream",
     "text": [
      "[ undefined, undefined, undefined, undefined ]\n"
     ]
    }
   ],
   "source": [
    "console.log(values.map(x => {age: x}))\n"
   ],
   "metadata": {
    "collapsed": false,
    "ExecuteTime": {
     "start_time": "2023-04-11T22:02:26.812690Z",
     "end_time": "2023-04-11T22:02:26.828870Z"
    }
   }
  },
  {
   "cell_type": "markdown",
   "source": [
    "## Video 3.4: Loops\n"
   ],
   "metadata": {
    "collapsed": false
   }
  },
  {
   "cell_type": "markdown",
   "source": [
    "### Iteration over keys"
   ],
   "metadata": {
    "collapsed": false
   }
  },
  {
   "cell_type": "code",
   "execution_count": 1,
   "outputs": [
    {
     "name": "stdout",
     "output_type": "stream",
     "text": [
      "0\n",
      "1\n",
      "2\n"
     ]
    }
   ],
   "source": [
    "const arr = [1,2,3]\n",
    "for (const key in arr){\n",
    "    console.log(key)\n",
    "}"
   ],
   "metadata": {
    "collapsed": false,
    "ExecuteTime": {
     "start_time": "2023-04-14T12:18:08.866234Z",
     "end_time": "2023-04-14T12:18:08.870516Z"
    }
   }
  },
  {
   "cell_type": "markdown",
   "source": [
    "### Iteration over values"
   ],
   "metadata": {
    "collapsed": false
   }
  },
  {
   "cell_type": "code",
   "execution_count": 6,
   "outputs": [
    {
     "name": "stdout",
     "output_type": "stream",
     "text": [
      "1\n",
      "2\n",
      "3\n"
     ]
    }
   ],
   "source": [
    "for (const key of arr){\n",
    "console.log(key)\n",
    "}"
   ],
   "metadata": {
    "collapsed": false,
    "ExecuteTime": {
     "start_time": "2023-04-14T12:18:31.806258Z",
     "end_time": "2023-04-14T12:18:31.818328Z"
    }
   }
  },
  {
   "cell_type": "markdown",
   "source": [
    "### Iteration over both"
   ],
   "metadata": {
    "collapsed": false
   }
  },
  {
   "cell_type": "code",
   "execution_count": 16,
   "outputs": [
    {
     "name": "stdout",
     "output_type": "stream",
     "text": [
      "a: 1\n",
      "b: 2\n",
      "c: 3\n"
     ]
    }
   ],
   "source": [
    "const obj = { a: 1, b: 2, c: 3 };\n",
    "\n",
    "for (const [key, value] of Object.entries(obj)) {\n",
    "    console.log(`${key}: ${value}`);\n",
    "}"
   ],
   "metadata": {
    "collapsed": false,
    "ExecuteTime": {
     "start_time": "2023-04-14T12:23:51.404300Z",
     "end_time": "2023-04-14T12:23:51.427638Z"
    }
   }
  },
  {
   "cell_type": "markdown",
   "source": [
    "## Video 3.5: Advanced Topics"
   ],
   "metadata": {
    "collapsed": false
   }
  },
  {
   "cell_type": "markdown",
   "source": [
    "### Tagged Template Literals\n",
    "How does `String.raw<string>` operate?"
   ],
   "metadata": {
    "collapsed": false
   }
  },
  {
   "cell_type": "code",
   "execution_count": 91,
   "outputs": [
    {
     "name": "stdout",
     "output_type": "stream",
     "text": [
      "C:\\Development\\profile\\aboutme.html\n",
      "\\\\\n"
     ]
    }
   ],
   "source": [
    "const str1 = String.raw`C:\\Development\\profile\\aboutme.html`;\n",
    "const str2 = String.raw`\\\\`;\n",
    "\n",
    "console.log(str1);\n",
    "console.log(str2);"
   ],
   "metadata": {
    "collapsed": false,
    "ExecuteTime": {
     "start_time": "2023-04-11T22:05:13.149141Z",
     "end_time": "2023-04-11T22:05:13.159224Z"
    }
   }
  },
  {
   "cell_type": "markdown",
   "source": [
    "#### Video example"
   ],
   "metadata": {
    "collapsed": false
   }
  },
  {
   "cell_type": "code",
   "execution_count": 106,
   "outputs": [
    {
     "ename": "SyntaxError",
     "evalue": "Identifier 'person' has already been declared",
     "output_type": "error",
     "traceback": [
      "evalmachine.<anonymous>:1",
      "const person = {name: 'Harry', age: 43};",
      "^",
      "",
      "SyntaxError: Identifier 'person' has already been declared",
      "    at Script.runInThisContext (node:vm:129:12)",
      "    at Object.runInThisContext (node:vm:307:38)",
      "    at run ([eval]:1020:15)",
      "    at onRunRequest ([eval]:864:18)",
      "    at onMessage ([eval]:828:13)",
      "    at process.emit (node:events:513:28)",
      "    at emit (node:internal/child_process:937:14)",
      "    at process.processTicksAndRejections (node:internal/process/task_queues:83:21)"
     ]
    }
   ],
   "source": [
    "const person = {name: 'Harry', age: 43};\n",
    "const video_greeting = String.raw`Hello C:\\Windows\\System`;"
   ],
   "metadata": {
    "collapsed": false,
    "ExecuteTime": {
     "start_time": "2023-04-11T22:12:06.265806Z",
     "end_time": "2023-04-11T22:12:06.275821Z"
    }
   }
  },
  {
   "cell_type": "code",
   "execution_count": 111,
   "outputs": [
    {
     "data": {
      "text/plain": "'Next year, Harry will be 44.'"
     },
     "execution_count": 111,
     "metadata": {},
     "output_type": "execute_result"
    }
   ],
   "source": [
    "message = `Next year, ${person.name} will be ${person.age + 1}.`;"
   ],
   "metadata": {
    "collapsed": false,
    "ExecuteTime": {
     "start_time": "2023-04-11T22:12:29.354417Z",
     "end_time": "2023-04-11T22:12:29.375027Z"
    }
   }
  },
  {
   "cell_type": "code",
   "execution_count": 116,
   "outputs": [],
   "source": [
    "function strong(fragments, ...values){\n",
    "    let result = fragments[0];\n",
    "    for(let i=1; i<fragments.length; i++){\n",
    "        result += `<strong>${values[i-1]}</strong>${fragments[i]}`;\n",
    "    }\n",
    "    return result;\n",
    "}\n"
   ],
   "metadata": {
    "collapsed": false,
    "ExecuteTime": {
     "start_time": "2023-04-11T22:13:04.308640Z",
     "end_time": "2023-04-11T22:13:04.329548Z"
    }
   }
  },
  {
   "cell_type": "code",
   "execution_count": 121,
   "outputs": [
    {
     "data": {
      "text/plain": "'Next year, <strong>Harry</strong> will be <strong>44</strong>.'"
     },
     "execution_count": 121,
     "metadata": {},
     "output_type": "execute_result"
    }
   ],
   "source": [
    "strong`Next year, ${person.name} will be ${person.age + 1}.`"
   ],
   "metadata": {
    "collapsed": false,
    "ExecuteTime": {
     "start_time": "2023-04-11T22:13:33.191373Z",
     "end_time": "2023-04-11T22:13:33.198399Z"
    }
   }
  },
  {
   "cell_type": "code",
   "execution_count": 131,
   "outputs": [
    {
     "data": {
      "text/plain": "'Next year, <strong>Harry</strong> will be <strong>42</strong>.'"
     },
     "execution_count": 131,
     "metadata": {},
     "output_type": "execute_result"
    }
   ],
   "source": [
    "strong(['Next year, ', ' will be ', '.'], 'Harry', 42)"
   ],
   "metadata": {
    "collapsed": false,
    "ExecuteTime": {
     "start_time": "2023-04-11T22:15:07.875847Z",
     "end_time": "2023-04-11T22:15:07.877375Z"
    }
   }
  },
  {
   "cell_type": "code",
   "execution_count": null,
   "outputs": [],
   "source": [],
   "metadata": {
    "collapsed": false
   }
  }
 ],
 "metadata": {
  "kernelspec": {
   "name": "javascript",
   "language": "javascript",
   "display_name": "JavaScript (Node.js)"
  },
  "language_info": {
   "codemirror_mode": {
    "name": "ipython",
    "version": 2
   },
   "file_extension": ".py",
   "mimetype": "text/x-python",
   "name": "python",
   "nbconvert_exporter": "python",
   "pygments_lexer": "ipython2",
   "version": "2.7.6"
  }
 },
 "nbformat": 4,
 "nbformat_minor": 0
}
