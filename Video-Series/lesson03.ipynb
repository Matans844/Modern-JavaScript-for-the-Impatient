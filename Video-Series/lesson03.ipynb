{
 "cells": [
  {
   "cell_type": "markdown",
   "source": [
    "# Lesson 03: Functions"
   ],
   "metadata": {
    "collapsed": false
   }
  },
  {
   "cell_type": "markdown",
   "source": [
    "## Video 3.1: Named and Anonymous Functions"
   ],
   "metadata": {
    "collapsed": false
   }
  },
  {
   "cell_type": "code",
   "execution_count": 1,
   "outputs": [],
   "source": [
    "const values = [0,1,2,4]"
   ],
   "metadata": {
    "collapsed": false
   }
  },
  {
   "cell_type": "markdown",
   "source": [
    "### Examining parsing ambiguity\n",
    "We want an array of objects to be returned:\n",
    "1. The first attempt is ambiguous due to the curly braces being parsed as an anonymous function code block. Since it returns nothing, we get an array of `undefines`.\n",
    "2. The second attempt fixes it because we emphasize returning a single object, rather than opening a code block. Notice that `id` is added as a new property.\n",
    "3. The third adds a `return` statement."
   ],
   "metadata": {
    "collapsed": false
   }
  },
  {
   "cell_type": "code",
   "execution_count": 6,
   "outputs": [
    {
     "name": "stdout",
     "output_type": "stream",
     "text": [
      "[ undefined, undefined, undefined, undefined ]\n"
     ]
    }
   ],
   "source": [
    "console.log(values.map(x => {id: x}))"
   ],
   "metadata": {
    "collapsed": false,
    "ExecuteTime": {
     "start_time": "2023-04-09T20:32:09.333462Z",
     "end_time": "2023-04-09T20:32:09.350526Z"
    }
   }
  },
  {
   "cell_type": "code",
   "execution_count": 31,
   "outputs": [
    {
     "name": "stdout",
     "output_type": "stream",
     "text": [
      "[ { id: 0 }, { id: 1 }, { id: 2 }, { id: 4 } ]\n"
     ]
    }
   ],
   "source": [
    "console.log(values.map(x => ({id: x})))"
   ],
   "metadata": {
    "collapsed": false,
    "ExecuteTime": {
     "start_time": "2023-04-09T20:37:53.953218Z",
     "end_time": "2023-04-09T20:37:53.954219Z"
    }
   }
  },
  {
   "cell_type": "code",
   "execution_count": 36,
   "outputs": [
    {
     "name": "stdout",
     "output_type": "stream",
     "text": [
      "[ { id: 0 }, { id: 1 }, { id: 2 }, { id: 4 } ]\n"
     ]
    }
   ],
   "source": [
    "console.log(values.map(x => {return {id: x}}))\n"
   ],
   "metadata": {
    "collapsed": false,
    "ExecuteTime": {
     "start_time": "2023-04-09T20:41:51.738908Z",
     "end_time": "2023-04-09T20:41:51.755662Z"
    }
   }
  },
  {
   "cell_type": "markdown",
   "source": [
    "##### Remark\n",
    "Hortmann says it is amazing that `id: x` is not considered a syntax error. The reason is that `id:` is considered a label, from the kind used in labeled breaks. The same can be said with `age:` in the following example. A named label should not be confused with a saved language keyword such as `let`.\n",
    "\n",
    "It seems like the language feature for named label breaks makes the language a bit unstable with respect to policing syntax."
   ],
   "metadata": {
    "collapsed": false
   }
  },
  {
   "cell_type": "code",
   "execution_count": 46,
   "outputs": [
    {
     "name": "stdout",
     "output_type": "stream",
     "text": [
      "[ undefined, undefined, undefined, undefined ]\n"
     ]
    }
   ],
   "source": [
    "console.log(values.map(x => {age: x}))\n"
   ],
   "metadata": {
    "collapsed": false,
    "ExecuteTime": {
     "start_time": "2023-04-09T21:58:40.557141Z",
     "end_time": "2023-04-09T21:58:40.559143Z"
    }
   }
  },
  {
   "cell_type": "markdown",
   "source": [
    "## Video 3.2: Functional Programming"
   ],
   "metadata": {
    "collapsed": false
   }
  }
 ],
 "metadata": {
  "kernelspec": {
   "name": "javascript",
   "language": "javascript",
   "display_name": "JavaScript (Node.js)"
  },
  "language_info": {
   "codemirror_mode": {
    "name": "ipython",
    "version": 2
   },
   "file_extension": ".py",
   "mimetype": "text/x-python",
   "name": "python",
   "nbconvert_exporter": "python",
   "pygments_lexer": "ipython2",
   "version": "2.7.6"
  }
 },
 "nbformat": 4,
 "nbformat_minor": 0
}
