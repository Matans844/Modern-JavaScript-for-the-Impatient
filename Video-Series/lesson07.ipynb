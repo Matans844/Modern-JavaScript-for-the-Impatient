{
 "cells": [
  {
   "cell_type": "markdown",
   "source": [
    "# Lesson 07: Arrays and Collections"
   ],
   "metadata": {
    "collapsed": false
   }
  },
  {
   "cell_type": "markdown",
   "source": [
    "## Video 7.1: Arrays"
   ],
   "metadata": {
    "collapsed": false
   }
  },
  {
   "cell_type": "code",
   "execution_count": 1,
   "outputs": [
    {
     "name": "stdout",
     "output_type": "stream",
     "text": [
      "[ 0, 1, 4, 9, 16, 25 ]\n"
     ]
    }
   ],
   "source": [
    "const arr = [0, 1, 4, 9, 16, 25]\n",
    "console.log(arr)"
   ],
   "metadata": {
    "collapsed": false,
    "ExecuteTime": {
     "start_time": "2023-04-13T12:24:54.531841Z",
     "end_time": "2023-04-13T12:24:54.531841Z"
    }
   }
  },
  {
   "cell_type": "code",
   "execution_count": 6,
   "outputs": [
    {
     "name": "stdout",
     "output_type": "stream",
     "text": [
      "[ 1, 4, 9, 16, 25, 25 ]\n",
      "[ 1, 1, 4, 9, 16, 25 ]\n"
     ]
    }
   ],
   "source": [
    "arr.copyWithin(0,1)\n",
    "console.log(arr)\n",
    "\n",
    "arr.copyWithin(1)\n",
    "console.log(arr)"
   ],
   "metadata": {
    "collapsed": false,
    "ExecuteTime": {
     "start_time": "2023-04-13T12:24:55.758657Z",
     "end_time": "2023-04-13T12:24:55.766166Z"
    }
   }
  },
  {
   "cell_type": "code",
   "execution_count": 11,
   "outputs": [
    {
     "name": "stdout",
     "output_type": "stream",
     "text": [
      "[ 0, 1, 4, 9, 16, 25 ]\n",
      "[ 0, 0, 1, 4, 9, 16 ]\n"
     ]
    }
   ],
   "source": [
    "const arr1 = [0, 1, 4, 9, 16, 25]\n",
    "console.log(arr1)\n",
    "\n",
    "arr1.copyWithin(1)\n",
    "console.log(arr1)"
   ],
   "metadata": {
    "collapsed": false,
    "ExecuteTime": {
     "start_time": "2023-04-13T12:25:34.628161Z",
     "end_time": "2023-04-13T12:25:34.643251Z"
    }
   }
  },
  {
   "cell_type": "code",
   "execution_count": null,
   "outputs": [],
   "source": [],
   "metadata": {
    "collapsed": false
   }
  }
 ],
 "metadata": {
  "kernelspec": {
   "name": "javascript",
   "language": "javascript",
   "display_name": "JavaScript (Node.js)"
  },
  "language_info": {
   "codemirror_mode": {
    "name": "ipython",
    "version": 2
   },
   "file_extension": ".py",
   "mimetype": "text/x-python",
   "name": "python",
   "nbconvert_exporter": "python",
   "pygments_lexer": "ipython2",
   "version": "2.7.6"
  }
 },
 "nbformat": 4,
 "nbformat_minor": 0
}
